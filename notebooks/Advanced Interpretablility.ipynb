{
 "cells": [
  {
   "cell_type": "code",
   "execution_count": 1,
   "metadata": {},
   "outputs": [],
   "source": [
    "import numpy as np\n",
    "import pandas as pd\n",
    "import tensorflow as tf\n",
    "from sklearn.model_selection import train_test_split\n",
    "from sklearn.preprocessing import OneHotEncoder"
   ]
  },
  {
   "cell_type": "code",
   "execution_count": 2,
   "metadata": {},
   "outputs": [
    {
     "name": "stdout",
     "output_type": "stream",
     "text": [
      "X_train shape: (2318, 11), y_train shape: (2318, 6)\n"
     ]
    }
   ],
   "source": [
    "# Load the dataset (using your provided data as an example)\n",
    "df = pd.read_csv(\"F:\\ML\\Wine-Quality-Prediction\\data\\wine_quality_processed.csv\")\n",
    "X = df.drop(columns=['quality']).values\n",
    "y = df['quality'].values\n",
    "\n",
    "# Convert quality to categorical\n",
    "encoder = OneHotEncoder(sparse_output=False)  # Updated parameter name\n",
    "y_categorical = encoder.fit_transform(y.reshape(-1, 1))\n",
    "\n",
    "# Train-test split\n",
    "X_train, X_test, y_train, y_test = train_test_split(X, y_categorical, test_size=0.2, random_state=42)\n",
    "\n",
    "# Check shapes\n",
    "print(f\"X_train shape: {X_train.shape}, y_train shape: {y_train.shape}\")\n"
   ]
  },
  {
   "cell_type": "code",
   "execution_count": 3,
   "metadata": {},
   "outputs": [
    {
     "name": "stderr",
     "output_type": "stream",
     "text": [
      "c:\\Users\\hp\\AppData\\Local\\Programs\\Python\\Python310\\lib\\site-packages\\keras\\src\\layers\\core\\dense.py:86: UserWarning: Do not pass an `input_shape`/`input_dim` argument to a layer. When using Sequential models, prefer using an `Input(shape)` object as the first layer in the model instead.\n",
      "  super().__init__(activity_regularizer=activity_regularizer, **kwargs)\n"
     ]
    },
    {
     "name": "stdout",
     "output_type": "stream",
     "text": [
      "Test Loss: 0.5092, Test Accuracy: 0.8397\n"
     ]
    }
   ],
   "source": [
    "# Build the classification neural network\n",
    "model = tf.keras.Sequential([\n",
    "    tf.keras.layers.Dense(64, activation='relu', input_shape=(X_train.shape[1],)),\n",
    "    tf.keras.layers.Dense(32, activation='relu'),\n",
    "    tf.keras.layers.Dense(y_train.shape[1], activation='softmax')  # Output layer for classification\n",
    "])\n",
    "model.compile(optimizer='adam', loss='categorical_crossentropy', metrics=['accuracy'])\n",
    "\n",
    "# Train the model\n",
    "model.fit(X_train, y_train, epochs=50, batch_size=8, verbose=0, validation_split=0.1)\n",
    "\n",
    "# Evaluate the model\n",
    "test_loss, test_accuracy = model.evaluate(X_test, y_test, verbose=0)\n",
    "print(f\"Test Loss: {test_loss:.4f}, Test Accuracy: {test_accuracy:.4f}\")"
   ]
  },
  {
   "cell_type": "code",
   "execution_count": 4,
   "metadata": {},
   "outputs": [],
   "source": [
    "def activation_maximization_classification(target_class, model, iterations=500, learning_rate=0.01):\n",
    "    # Start with a random input vector\n",
    "    input_vector = tf.Variable(np.random.normal(size=(1, X_train.shape[1])), dtype=tf.float32)\n",
    "\n",
    "    # Define the optimizer\n",
    "    optimizer = tf.keras.optimizers.Adam(learning_rate=learning_rate)\n",
    "\n",
    "    # Gradient ascent loop\n",
    "    for i in range(iterations):\n",
    "        with tf.GradientTape() as tape:\n",
    "            # Predict probabilities for the input vector\n",
    "            prediction = model(input_vector)\n",
    "            # Loss is the negative log probability of the target class\n",
    "            loss = -tf.math.log(prediction[0, target_class] + 1e-8)\n",
    "\n",
    "        # Compute gradients and update input vector\n",
    "        grads = tape.gradient(loss, input_vector)\n",
    "        optimizer.apply_gradients([(grads, input_vector)])\n",
    "\n",
    "        # Clip values to ensure realistic inputs\n",
    "        input_vector.assign(tf.clip_by_value(input_vector, -3, 3))\n",
    "\n",
    "    return input_vector.numpy().flatten()"
   ]
  },
  {
   "cell_type": "code",
   "execution_count": null,
   "metadata": {},
   "outputs": [
    {
     "name": "stdout",
     "output_type": "stream",
     "text": [
      "QUALITY 8 IS BEST QUALITY\n",
      "Optimized Input for Class 5 (Quality 8): [ 0.9685086  -0.4744536   0.97511446  0.03763452 -0.24961634  0.78049004\n",
      "  1.2581694  -1.070699   -2.5721092  -0.51179785 -0.1591086 ]\n"
     ]
    }
   ],
   "source": [
    "print(\"QUALITY 8 IS BEST QUALITY\")\n",
    "Best_Quality = 10\n",
    "target_class = encoder.categories_[0].tolist().index(Best_Quality)  # Index of class '8'\n",
    "optimized_input = activation_maximization_classification(target_class, model)\n",
    "print(f\"Optimized Input for Class {target_class} (Quality 8): {optimized_input}\")"
   ]
  },
  {
   "cell_type": "code",
   "execution_count": 6,
   "metadata": {},
   "outputs": [],
   "source": [
    "def counterfactual_explanation_classification(input_instance, target_class, model, iterations=500, learning_rate=0.01):\n",
    "    # Convert the instance into a tensor\n",
    "    input_tensor = tf.Variable(input_instance.reshape(1, -1), dtype=tf.float32)\n",
    "\n",
    "    # Define the optimizer\n",
    "    optimizer = tf.keras.optimizers.Adam(learning_rate=learning_rate)\n",
    "\n",
    "    # Gradient descent loop\n",
    "    for i in range(iterations):\n",
    "        with tf.GradientTape() as tape:\n",
    "            # Predict probabilities\n",
    "            prediction = model(input_tensor)\n",
    "            # Loss is the negative log probability of the target class + minimal changes\n",
    "            loss = -tf.math.log(prediction[0, target_class] + 1e-8) + 0.01 * tf.reduce_sum(tf.square(input_tensor - input_instance))\n",
    "\n",
    "        # Compute gradients and update input tensor\n",
    "        grads = tape.gradient(loss, input_tensor)\n",
    "        optimizer.apply_gradients([(grads, input_tensor)])\n",
    "\n",
    "        # Clip the input values to realistic ranges\n",
    "        input_tensor.assign(tf.clip_by_value(input_tensor, -3, 3))\n",
    "\n",
    "    return input_tensor.numpy().flatten()\n"
   ]
  },
  {
   "cell_type": "code",
   "execution_count": 7,
   "metadata": {},
   "outputs": [
    {
     "name": "stdout",
     "output_type": "stream",
     "text": [
      "Original Instance: [-0.29501569 -0.90237945  0.39774749 -0.5402045  -0.28850822 -0.09208832\n",
      " -0.72562543 -1.26820159 -0.49809235  0.2346359   1.12226075]\n",
      "True Class: 5\n",
      "Modified Instance for Class 5 (Quality 8): [-0.36350772 -0.8539945   0.42777157 -0.6565002  -0.26097444 -0.12002951\n",
      " -0.74048716 -1.2704254  -0.5103103   0.28759494  1.1331089 ]\n"
     ]
    }
   ],
   "source": [
    "index = 0\n",
    "instance = X_test[index]\n",
    "true_class = np.argmax(y_test[index])\n",
    "target_quality = 8 # Class '8' is the best quality\n",
    "target_class = encoder.categories_[0].tolist().index(target_quality)  # Index of class '8'\n",
    "modified_instance = counterfactual_explanation_classification(instance, target_class, model)\n",
    "print(f\"Original Instance: {instance}\")\n",
    "print(f\"True Class: {true_class}\")\n",
    "print(f\"Modified Instance for Class {target_class} (Quality {target_quality}): {modified_instance}\")"
   ]
  }
 ],
 "metadata": {
  "kernelspec": {
   "display_name": "Python 3",
   "language": "python",
   "name": "python3"
  },
  "language_info": {
   "codemirror_mode": {
    "name": "ipython",
    "version": 3
   },
   "file_extension": ".py",
   "mimetype": "text/x-python",
   "name": "python",
   "nbconvert_exporter": "python",
   "pygments_lexer": "ipython3",
   "version": "3.10.5"
  }
 },
 "nbformat": 4,
 "nbformat_minor": 2
}
